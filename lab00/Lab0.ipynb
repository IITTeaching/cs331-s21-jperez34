{
 "cells": [
  {
   "cell_type": "code",
   "execution_count": 1,
   "metadata": {},
   "outputs": [
    {
     "name": "stdout",
     "output_type": "stream",
     "text": [
      "your successfully created a palindrome!\n"
     ]
    }
   ],
   "source": [
    "# %load lab00.py\n",
    "# Change this function\n",
    "def my_palindrome(): \n",
    "    return 'ABBA'\n",
    "\n",
    "# Do not change the main method\n",
    "def main():\n",
    "    pal = my_palindrome()\n",
    "    assert isinstance(pal, str), 'Must return a string'\n",
    "    assert pal.strip(), 'String should not be empty'\n",
    "    assert len(pal) > 1, 'String should be at least 2 letters long'\n",
    "    assert pal == pal[::-1], 'String is not a palindrome'\n",
    "    print(\"your successfully created a palindrome!\")\n",
    "\n",
    "if __name__ == '__main__':\n",
    "    main()\n"
   ]
  },
  {
   "cell_type": "code",
   "execution_count": null,
   "metadata": {},
   "outputs": [],
   "source": []
  }
 ],
 "metadata": {
  "kernelspec": {
   "display_name": "Python 3",
   "language": "python",
   "name": "python3"
  },
  "language_info": {
   "codemirror_mode": {
    "name": "ipython",
    "version": 3
   },
   "file_extension": ".py",
   "mimetype": "text/x-python",
   "name": "python",
   "nbconvert_exporter": "python",
   "pygments_lexer": "ipython3",
   "version": "3.8.3"
  }
 },
 "nbformat": 4,
 "nbformat_minor": 4
}
